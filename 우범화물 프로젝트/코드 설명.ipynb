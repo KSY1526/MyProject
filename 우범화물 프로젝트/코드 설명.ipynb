{
 "cells": [
  {
   "cell_type": "code",
   "execution_count": 1,
   "id": "e1b29ada",
   "metadata": {},
   "outputs": [],
   "source": [
    "import pandas as pd\n",
    "import numpy as np\n",
    "np.random.seed(42)\n",
    "from sklearn.tree import DecisionTreeClassifier\n",
    "from sklearn.neighbors import KNeighborsClassifier\n",
    "from sklearn.ensemble import RandomForestClassifier\n",
    "from sklearn.ensemble import AdaBoostClassifier\n",
    "from sklearn.linear_model import LogisticRegression\n",
    "from sklearn.model_selection import StratifiedKFold\n",
    "from sklearn.tree import plot_tree\n",
    "from sklearn.metrics import accuracy_score, precision_score, recall_score, f1_score\n",
    "from sklearn.metrics import classification_report\n",
    "from sklearn.model_selection import train_test_split\n",
    "from sklearn.model_selection import StratifiedKFold\n",
    "from sklearn.model_selection import cross_val_score, cross_validate\n",
    "from sklearn.model_selection import GridSearchCV\n",
    "from sklearn.preprocessing import LabelEncoder\n",
    "from sklearn.preprocessing import OneHotEncoder\n",
    "from xgboost import XGBClassifier\n",
    "from imblearn.over_sampling import *\n",
    "import matplotlib.pyplot as plt\n",
    "import math\n",
    "from sklearn.metrics import confusion_matrix\n",
    "from sklearn.preprocessing import MinMaxScaler\n",
    "from sklearn.preprocessing import RobustScaler"
   ]
  },
  {
   "cell_type": "code",
   "execution_count": 2,
   "id": "61295551",
   "metadata": {},
   "outputs": [
    {
     "data": {
      "text/plain": [
       "0         4077180\n",
       "1         4002001\n",
       "2        15002001\n",
       "3         4002001\n",
       "4         2002079\n",
       "           ...   \n",
       "89614     2006033\n",
       "89615     2002079\n",
       "89616     4106006\n",
       "89617     4077009\n",
       "89618     4002001\n",
       "Name: 반입보세구역부호, Length: 89619, dtype: int64"
      ]
     },
     "execution_count": 2,
     "metadata": {},
     "output_type": "execute_result"
    }
   ],
   "source": [
    "df2 = pd.read_csv('train.csv')\n",
    "df2['반입보세구역부호']"
   ]
  },
  {
   "cell_type": "code",
   "execution_count": 4,
   "id": "a62e107f",
   "metadata": {},
   "outputs": [
    {
     "ename": "MemoryError",
     "evalue": "Unable to allocate 448. MiB for an array with shape (7659, 7659) and data type float64",
     "output_type": "error",
     "traceback": [
      "\u001b[1;31m---------------------------------------------------------------------------\u001b[0m",
      "\u001b[1;31mMemoryError\u001b[0m                               Traceback (most recent call last)",
      "\u001b[1;32m<ipython-input-4-dd33da815e5c>\u001b[0m in \u001b[0;36m<module>\u001b[1;34m\u001b[0m\n\u001b[0;32m      9\u001b[0m \u001b[0mx_train\u001b[0m\u001b[1;33m,\u001b[0m \u001b[0mx_test\u001b[0m\u001b[1;33m,\u001b[0m \u001b[0my_train\u001b[0m\u001b[1;33m,\u001b[0m \u001b[0my_test\u001b[0m \u001b[1;33m=\u001b[0m \u001b[0mtrain_test_split\u001b[0m\u001b[1;33m(\u001b[0m\u001b[0mdf_x\u001b[0m\u001b[1;33m,\u001b[0m\u001b[0mdf_y\u001b[0m\u001b[1;33m,\u001b[0m\u001b[0mtest_size\u001b[0m\u001b[1;33m=\u001b[0m\u001b[1;36m0.2\u001b[0m\u001b[1;33m,\u001b[0m \u001b[0mrandom_state\u001b[0m\u001b[1;33m=\u001b[0m\u001b[1;36m42\u001b[0m\u001b[1;33m)\u001b[0m\u001b[1;33m\u001b[0m\u001b[1;33m\u001b[0m\u001b[0m\n\u001b[0;32m     10\u001b[0m \u001b[0moversampling_instance\u001b[0m \u001b[1;33m=\u001b[0m \u001b[0mSMOTE\u001b[0m\u001b[1;33m(\u001b[0m\u001b[0mrandom_state\u001b[0m\u001b[1;33m=\u001b[0m\u001b[1;36m42\u001b[0m\u001b[1;33m)\u001b[0m\u001b[1;33m\u001b[0m\u001b[1;33m\u001b[0m\u001b[0m\n\u001b[1;32m---> 11\u001b[1;33m \u001b[0mx_train\u001b[0m\u001b[1;33m,\u001b[0m \u001b[0my_train\u001b[0m \u001b[1;33m=\u001b[0m \u001b[0moversampling_instance\u001b[0m\u001b[1;33m.\u001b[0m\u001b[0mfit_resample\u001b[0m\u001b[1;33m(\u001b[0m\u001b[0mx_train\u001b[0m\u001b[1;33m,\u001b[0m \u001b[0my_train\u001b[0m\u001b[1;33m)\u001b[0m\u001b[1;33m\u001b[0m\u001b[1;33m\u001b[0m\u001b[0m\n\u001b[0m\u001b[0;32m     12\u001b[0m \u001b[1;33m\u001b[0m\u001b[0m\n\u001b[0;32m     13\u001b[0m \u001b[0mdf_clt\u001b[0m \u001b[1;33m=\u001b[0m \u001b[0mDecisionTreeClassifier\u001b[0m\u001b[1;33m(\u001b[0m\u001b[0mmax_depth\u001b[0m\u001b[1;33m=\u001b[0m\u001b[1;36m7\u001b[0m\u001b[1;33m)\u001b[0m\u001b[1;33m\u001b[0m\u001b[1;33m\u001b[0m\u001b[0m\n",
      "\u001b[1;32mC:\\ProgramData\\Anaconda3\\envs\\ssu\\lib\\site-packages\\imblearn\\base.py\u001b[0m in \u001b[0;36mfit_resample\u001b[1;34m(self, X, y)\u001b[0m\n\u001b[0;32m     81\u001b[0m         )\n\u001b[0;32m     82\u001b[0m \u001b[1;33m\u001b[0m\u001b[0m\n\u001b[1;32m---> 83\u001b[1;33m         \u001b[0moutput\u001b[0m \u001b[1;33m=\u001b[0m \u001b[0mself\u001b[0m\u001b[1;33m.\u001b[0m\u001b[0m_fit_resample\u001b[0m\u001b[1;33m(\u001b[0m\u001b[0mX\u001b[0m\u001b[1;33m,\u001b[0m \u001b[0my\u001b[0m\u001b[1;33m)\u001b[0m\u001b[1;33m\u001b[0m\u001b[1;33m\u001b[0m\u001b[0m\n\u001b[0m\u001b[0;32m     84\u001b[0m \u001b[1;33m\u001b[0m\u001b[0m\n\u001b[0;32m     85\u001b[0m         \u001b[0my_\u001b[0m \u001b[1;33m=\u001b[0m \u001b[0mlabel_binarize\u001b[0m\u001b[1;33m(\u001b[0m\u001b[0moutput\u001b[0m\u001b[1;33m[\u001b[0m\u001b[1;36m1\u001b[0m\u001b[1;33m]\u001b[0m\u001b[1;33m,\u001b[0m \u001b[0mnp\u001b[0m\u001b[1;33m.\u001b[0m\u001b[0munique\u001b[0m\u001b[1;33m(\u001b[0m\u001b[0my\u001b[0m\u001b[1;33m)\u001b[0m\u001b[1;33m)\u001b[0m \u001b[1;32mif\u001b[0m \u001b[0mbinarize_y\u001b[0m \u001b[1;32melse\u001b[0m \u001b[0moutput\u001b[0m\u001b[1;33m[\u001b[0m\u001b[1;36m1\u001b[0m\u001b[1;33m]\u001b[0m\u001b[1;33m\u001b[0m\u001b[1;33m\u001b[0m\u001b[0m\n",
      "\u001b[1;32mC:\\ProgramData\\Anaconda3\\envs\\ssu\\lib\\site-packages\\imblearn\\over_sampling\\_smote\\base.py\u001b[0m in \u001b[0;36m_fit_resample\u001b[1;34m(self, X, y)\u001b[0m\n\u001b[0;32m    307\u001b[0m \u001b[1;33m\u001b[0m\u001b[0m\n\u001b[0;32m    308\u001b[0m             \u001b[0mself\u001b[0m\u001b[1;33m.\u001b[0m\u001b[0mnn_k_\u001b[0m\u001b[1;33m.\u001b[0m\u001b[0mfit\u001b[0m\u001b[1;33m(\u001b[0m\u001b[0mX_class\u001b[0m\u001b[1;33m)\u001b[0m\u001b[1;33m\u001b[0m\u001b[1;33m\u001b[0m\u001b[0m\n\u001b[1;32m--> 309\u001b[1;33m             \u001b[0mnns\u001b[0m \u001b[1;33m=\u001b[0m \u001b[0mself\u001b[0m\u001b[1;33m.\u001b[0m\u001b[0mnn_k_\u001b[0m\u001b[1;33m.\u001b[0m\u001b[0mkneighbors\u001b[0m\u001b[1;33m(\u001b[0m\u001b[0mX_class\u001b[0m\u001b[1;33m,\u001b[0m \u001b[0mreturn_distance\u001b[0m\u001b[1;33m=\u001b[0m\u001b[1;32mFalse\u001b[0m\u001b[1;33m)\u001b[0m\u001b[1;33m[\u001b[0m\u001b[1;33m:\u001b[0m\u001b[1;33m,\u001b[0m \u001b[1;36m1\u001b[0m\u001b[1;33m:\u001b[0m\u001b[1;33m]\u001b[0m\u001b[1;33m\u001b[0m\u001b[1;33m\u001b[0m\u001b[0m\n\u001b[0m\u001b[0;32m    310\u001b[0m             X_new, y_new = self._make_samples(\n\u001b[0;32m    311\u001b[0m                 \u001b[0mX_class\u001b[0m\u001b[1;33m,\u001b[0m \u001b[0my\u001b[0m\u001b[1;33m.\u001b[0m\u001b[0mdtype\u001b[0m\u001b[1;33m,\u001b[0m \u001b[0mclass_sample\u001b[0m\u001b[1;33m,\u001b[0m \u001b[0mX_class\u001b[0m\u001b[1;33m,\u001b[0m \u001b[0mnns\u001b[0m\u001b[1;33m,\u001b[0m \u001b[0mn_samples\u001b[0m\u001b[1;33m,\u001b[0m \u001b[1;36m1.0\u001b[0m\u001b[1;33m\u001b[0m\u001b[1;33m\u001b[0m\u001b[0m\n",
      "\u001b[1;32mC:\\ProgramData\\Anaconda3\\envs\\ssu\\lib\\site-packages\\sklearn\\neighbors\\_base.py\u001b[0m in \u001b[0;36mkneighbors\u001b[1;34m(self, X, n_neighbors, return_distance)\u001b[0m\n\u001b[0;32m    703\u001b[0m                 \u001b[0mkwds\u001b[0m \u001b[1;33m=\u001b[0m \u001b[0mself\u001b[0m\u001b[1;33m.\u001b[0m\u001b[0meffective_metric_params_\u001b[0m\u001b[1;33m\u001b[0m\u001b[1;33m\u001b[0m\u001b[0m\n\u001b[0;32m    704\u001b[0m \u001b[1;33m\u001b[0m\u001b[0m\n\u001b[1;32m--> 705\u001b[1;33m             chunked_results = list(pairwise_distances_chunked(\n\u001b[0m\u001b[0;32m    706\u001b[0m                 \u001b[0mX\u001b[0m\u001b[1;33m,\u001b[0m \u001b[0mself\u001b[0m\u001b[1;33m.\u001b[0m\u001b[0m_fit_X\u001b[0m\u001b[1;33m,\u001b[0m \u001b[0mreduce_func\u001b[0m\u001b[1;33m=\u001b[0m\u001b[0mreduce_func\u001b[0m\u001b[1;33m,\u001b[0m\u001b[1;33m\u001b[0m\u001b[1;33m\u001b[0m\u001b[0m\n\u001b[0;32m    707\u001b[0m                 \u001b[0mmetric\u001b[0m\u001b[1;33m=\u001b[0m\u001b[0mself\u001b[0m\u001b[1;33m.\u001b[0m\u001b[0meffective_metric_\u001b[0m\u001b[1;33m,\u001b[0m \u001b[0mn_jobs\u001b[0m\u001b[1;33m=\u001b[0m\u001b[0mn_jobs\u001b[0m\u001b[1;33m,\u001b[0m\u001b[1;33m\u001b[0m\u001b[1;33m\u001b[0m\u001b[0m\n",
      "\u001b[1;32mC:\\ProgramData\\Anaconda3\\envs\\ssu\\lib\\site-packages\\sklearn\\metrics\\pairwise.py\u001b[0m in \u001b[0;36mpairwise_distances_chunked\u001b[1;34m(X, Y, reduce_func, metric, n_jobs, working_memory, **kwds)\u001b[0m\n\u001b[0;32m   1621\u001b[0m         \u001b[1;32melse\u001b[0m\u001b[1;33m:\u001b[0m\u001b[1;33m\u001b[0m\u001b[1;33m\u001b[0m\u001b[0m\n\u001b[0;32m   1622\u001b[0m             \u001b[0mX_chunk\u001b[0m \u001b[1;33m=\u001b[0m \u001b[0mX\u001b[0m\u001b[1;33m[\u001b[0m\u001b[0msl\u001b[0m\u001b[1;33m]\u001b[0m\u001b[1;33m\u001b[0m\u001b[1;33m\u001b[0m\u001b[0m\n\u001b[1;32m-> 1623\u001b[1;33m         D_chunk = pairwise_distances(X_chunk, Y, metric=metric,\n\u001b[0m\u001b[0;32m   1624\u001b[0m                                      n_jobs=n_jobs, **kwds)\n\u001b[0;32m   1625\u001b[0m         if ((X is Y or Y is None)\n",
      "\u001b[1;32mC:\\ProgramData\\Anaconda3\\envs\\ssu\\lib\\site-packages\\sklearn\\utils\\validation.py\u001b[0m in \u001b[0;36minner_f\u001b[1;34m(*args, **kwargs)\u001b[0m\n\u001b[0;32m     61\u001b[0m             \u001b[0mextra_args\u001b[0m \u001b[1;33m=\u001b[0m \u001b[0mlen\u001b[0m\u001b[1;33m(\u001b[0m\u001b[0margs\u001b[0m\u001b[1;33m)\u001b[0m \u001b[1;33m-\u001b[0m \u001b[0mlen\u001b[0m\u001b[1;33m(\u001b[0m\u001b[0mall_args\u001b[0m\u001b[1;33m)\u001b[0m\u001b[1;33m\u001b[0m\u001b[1;33m\u001b[0m\u001b[0m\n\u001b[0;32m     62\u001b[0m             \u001b[1;32mif\u001b[0m \u001b[0mextra_args\u001b[0m \u001b[1;33m<=\u001b[0m \u001b[1;36m0\u001b[0m\u001b[1;33m:\u001b[0m\u001b[1;33m\u001b[0m\u001b[1;33m\u001b[0m\u001b[0m\n\u001b[1;32m---> 63\u001b[1;33m                 \u001b[1;32mreturn\u001b[0m \u001b[0mf\u001b[0m\u001b[1;33m(\u001b[0m\u001b[1;33m*\u001b[0m\u001b[0margs\u001b[0m\u001b[1;33m,\u001b[0m \u001b[1;33m**\u001b[0m\u001b[0mkwargs\u001b[0m\u001b[1;33m)\u001b[0m\u001b[1;33m\u001b[0m\u001b[1;33m\u001b[0m\u001b[0m\n\u001b[0m\u001b[0;32m     64\u001b[0m \u001b[1;33m\u001b[0m\u001b[0m\n\u001b[0;32m     65\u001b[0m             \u001b[1;31m# extra_args > 0\u001b[0m\u001b[1;33m\u001b[0m\u001b[1;33m\u001b[0m\u001b[1;33m\u001b[0m\u001b[0m\n",
      "\u001b[1;32mC:\\ProgramData\\Anaconda3\\envs\\ssu\\lib\\site-packages\\sklearn\\metrics\\pairwise.py\u001b[0m in \u001b[0;36mpairwise_distances\u001b[1;34m(X, Y, metric, n_jobs, force_all_finite, **kwds)\u001b[0m\n\u001b[0;32m   1788\u001b[0m         \u001b[0mfunc\u001b[0m \u001b[1;33m=\u001b[0m \u001b[0mpartial\u001b[0m\u001b[1;33m(\u001b[0m\u001b[0mdistance\u001b[0m\u001b[1;33m.\u001b[0m\u001b[0mcdist\u001b[0m\u001b[1;33m,\u001b[0m \u001b[0mmetric\u001b[0m\u001b[1;33m=\u001b[0m\u001b[0mmetric\u001b[0m\u001b[1;33m,\u001b[0m \u001b[1;33m**\u001b[0m\u001b[0mkwds\u001b[0m\u001b[1;33m)\u001b[0m\u001b[1;33m\u001b[0m\u001b[1;33m\u001b[0m\u001b[0m\n\u001b[0;32m   1789\u001b[0m \u001b[1;33m\u001b[0m\u001b[0m\n\u001b[1;32m-> 1790\u001b[1;33m     \u001b[1;32mreturn\u001b[0m \u001b[0m_parallel_pairwise\u001b[0m\u001b[1;33m(\u001b[0m\u001b[0mX\u001b[0m\u001b[1;33m,\u001b[0m \u001b[0mY\u001b[0m\u001b[1;33m,\u001b[0m \u001b[0mfunc\u001b[0m\u001b[1;33m,\u001b[0m \u001b[0mn_jobs\u001b[0m\u001b[1;33m,\u001b[0m \u001b[1;33m**\u001b[0m\u001b[0mkwds\u001b[0m\u001b[1;33m)\u001b[0m\u001b[1;33m\u001b[0m\u001b[1;33m\u001b[0m\u001b[0m\n\u001b[0m\u001b[0;32m   1791\u001b[0m \u001b[1;33m\u001b[0m\u001b[0m\n\u001b[0;32m   1792\u001b[0m \u001b[1;33m\u001b[0m\u001b[0m\n",
      "\u001b[1;32mC:\\ProgramData\\Anaconda3\\envs\\ssu\\lib\\site-packages\\sklearn\\metrics\\pairwise.py\u001b[0m in \u001b[0;36m_parallel_pairwise\u001b[1;34m(X, Y, func, n_jobs, **kwds)\u001b[0m\n\u001b[0;32m   1357\u001b[0m \u001b[1;33m\u001b[0m\u001b[0m\n\u001b[0;32m   1358\u001b[0m     \u001b[1;32mif\u001b[0m \u001b[0meffective_n_jobs\u001b[0m\u001b[1;33m(\u001b[0m\u001b[0mn_jobs\u001b[0m\u001b[1;33m)\u001b[0m \u001b[1;33m==\u001b[0m \u001b[1;36m1\u001b[0m\u001b[1;33m:\u001b[0m\u001b[1;33m\u001b[0m\u001b[1;33m\u001b[0m\u001b[0m\n\u001b[1;32m-> 1359\u001b[1;33m         \u001b[1;32mreturn\u001b[0m \u001b[0mfunc\u001b[0m\u001b[1;33m(\u001b[0m\u001b[0mX\u001b[0m\u001b[1;33m,\u001b[0m \u001b[0mY\u001b[0m\u001b[1;33m,\u001b[0m \u001b[1;33m**\u001b[0m\u001b[0mkwds\u001b[0m\u001b[1;33m)\u001b[0m\u001b[1;33m\u001b[0m\u001b[1;33m\u001b[0m\u001b[0m\n\u001b[0m\u001b[0;32m   1360\u001b[0m \u001b[1;33m\u001b[0m\u001b[0m\n\u001b[0;32m   1361\u001b[0m     \u001b[1;31m# enforce a threading backend to prevent data communication overhead\u001b[0m\u001b[1;33m\u001b[0m\u001b[1;33m\u001b[0m\u001b[1;33m\u001b[0m\u001b[0m\n",
      "\u001b[1;32mC:\\ProgramData\\Anaconda3\\envs\\ssu\\lib\\site-packages\\sklearn\\utils\\validation.py\u001b[0m in \u001b[0;36minner_f\u001b[1;34m(*args, **kwargs)\u001b[0m\n\u001b[0;32m     61\u001b[0m             \u001b[0mextra_args\u001b[0m \u001b[1;33m=\u001b[0m \u001b[0mlen\u001b[0m\u001b[1;33m(\u001b[0m\u001b[0margs\u001b[0m\u001b[1;33m)\u001b[0m \u001b[1;33m-\u001b[0m \u001b[0mlen\u001b[0m\u001b[1;33m(\u001b[0m\u001b[0mall_args\u001b[0m\u001b[1;33m)\u001b[0m\u001b[1;33m\u001b[0m\u001b[1;33m\u001b[0m\u001b[0m\n\u001b[0;32m     62\u001b[0m             \u001b[1;32mif\u001b[0m \u001b[0mextra_args\u001b[0m \u001b[1;33m<=\u001b[0m \u001b[1;36m0\u001b[0m\u001b[1;33m:\u001b[0m\u001b[1;33m\u001b[0m\u001b[1;33m\u001b[0m\u001b[0m\n\u001b[1;32m---> 63\u001b[1;33m                 \u001b[1;32mreturn\u001b[0m \u001b[0mf\u001b[0m\u001b[1;33m(\u001b[0m\u001b[1;33m*\u001b[0m\u001b[0margs\u001b[0m\u001b[1;33m,\u001b[0m \u001b[1;33m**\u001b[0m\u001b[0mkwargs\u001b[0m\u001b[1;33m)\u001b[0m\u001b[1;33m\u001b[0m\u001b[1;33m\u001b[0m\u001b[0m\n\u001b[0m\u001b[0;32m     64\u001b[0m \u001b[1;33m\u001b[0m\u001b[0m\n\u001b[0;32m     65\u001b[0m             \u001b[1;31m# extra_args > 0\u001b[0m\u001b[1;33m\u001b[0m\u001b[1;33m\u001b[0m\u001b[1;33m\u001b[0m\u001b[0m\n",
      "\u001b[1;32mC:\\ProgramData\\Anaconda3\\envs\\ssu\\lib\\site-packages\\sklearn\\metrics\\pairwise.py\u001b[0m in \u001b[0;36meuclidean_distances\u001b[1;34m(X, Y, Y_norm_squared, squared, X_norm_squared)\u001b[0m\n\u001b[0;32m    311\u001b[0m     \u001b[1;32melse\u001b[0m\u001b[1;33m:\u001b[0m\u001b[1;33m\u001b[0m\u001b[1;33m\u001b[0m\u001b[0m\n\u001b[0;32m    312\u001b[0m         \u001b[1;31m# if dtype is already float64, no need to chunk and upcast\u001b[0m\u001b[1;33m\u001b[0m\u001b[1;33m\u001b[0m\u001b[1;33m\u001b[0m\u001b[0m\n\u001b[1;32m--> 313\u001b[1;33m         \u001b[0mdistances\u001b[0m \u001b[1;33m=\u001b[0m \u001b[1;33m-\u001b[0m \u001b[1;36m2\u001b[0m \u001b[1;33m*\u001b[0m \u001b[0msafe_sparse_dot\u001b[0m\u001b[1;33m(\u001b[0m\u001b[0mX\u001b[0m\u001b[1;33m,\u001b[0m \u001b[0mY\u001b[0m\u001b[1;33m.\u001b[0m\u001b[0mT\u001b[0m\u001b[1;33m,\u001b[0m \u001b[0mdense_output\u001b[0m\u001b[1;33m=\u001b[0m\u001b[1;32mTrue\u001b[0m\u001b[1;33m)\u001b[0m\u001b[1;33m\u001b[0m\u001b[1;33m\u001b[0m\u001b[0m\n\u001b[0m\u001b[0;32m    314\u001b[0m         \u001b[0mdistances\u001b[0m \u001b[1;33m+=\u001b[0m \u001b[0mXX\u001b[0m\u001b[1;33m\u001b[0m\u001b[1;33m\u001b[0m\u001b[0m\n\u001b[0;32m    315\u001b[0m         \u001b[0mdistances\u001b[0m \u001b[1;33m+=\u001b[0m \u001b[0mYY\u001b[0m\u001b[1;33m\u001b[0m\u001b[1;33m\u001b[0m\u001b[0m\n",
      "\u001b[1;31mMemoryError\u001b[0m: Unable to allocate 448. MiB for an array with shape (7659, 7659) and data type float64"
     ]
    }
   ],
   "source": [
    "df2 = pd.read_csv('train.csv')\n",
    "import re\n",
    "df2[\"HS10단위부호\"] = df2[\"HS10단위부호\"].apply(lambda x: re.findall(\"[0-9]{2}\",str(x))[0])\n",
    "df2[\"HS10단위부호\"] = df2[\"HS10단위부호\"].astype(\"int\")\n",
    "df2 = df2[['핵심적발','HS10단위부호']]\n",
    "df2 = pd.get_dummies(df2,columns = [\"HS10단위부호\"])\n",
    "df_y = df2['핵심적발']\n",
    "df_x = df2.drop('핵심적발',axis=1)\n",
    "x_train, x_test, y_train, y_test = train_test_split(df_x,df_y,test_size=0.2, random_state=42)\n",
    "oversampling_instance = SMOTE(random_state=42)\n",
    "x_train, y_train = oversampling_instance.fit_resample(x_train, y_train)\n",
    "\n",
    "df_clt = DecisionTreeClassifier(max_depth=7)\n",
    "df_clt.fit(x_train, y_train)\n",
    "#df_clt.fit(x_train, y_train, verbose = True)\n",
    "pred_train = df_clt.predict(x_train)\n",
    "pred_test = df_clt.predict(x_test)\n",
    "\n",
    "print('트레인 예측정확도: {0:.4f}'.format(accuracy_score(y_train,pred_train)))\n",
    "print('테스트 예측정확도: {0:.4f}'.format(accuracy_score(y_test,pred_test)))"
   ]
  },
  {
   "cell_type": "code",
   "execution_count": 10,
   "id": "317ccdb2",
   "metadata": {},
   "outputs": [
    {
     "name": "stdout",
     "output_type": "stream",
     "text": [
      "트레인 예측정확도: 0.3849\n",
      "테스트 예측정확도: 0.5723\n"
     ]
    }
   ],
   "source": [
    "df2 = pd.read_csv('train.csv')\n",
    "import re\n",
    "df2[\"반입보세구역부호\"] = df2[\"반입보세구역부호\"].apply(lambda x: re.findall(\"[0-9]{3}\",str(x))[0])\n",
    "df2[\"반입보세구역부호\"] = df2[\"반입보세구역부호\"].astype(\"int\")\n",
    "df2 = df2[['핵심적발','반입보세구역부호']]\n",
    "df2 = pd.get_dummies(df2,columns = [\"반입보세구역부호\"])\n",
    "df_y = df2['핵심적발']\n",
    "df_x = df2.drop('핵심적발',axis=1)\n",
    "x_train, x_test, y_train, y_test = train_test_split(df_x,df_y,test_size=0.2, random_state=42)\n",
    "oversampling_instance = RandomOverSampler(random_state=42)\n",
    "x_train, y_train = oversampling_instance.fit_resample(x_train, y_train)\n",
    "\n",
    "df_clt = DecisionTreeClassifier(max_depth=7)\n",
    "df_clt.fit(x_train, y_train)\n",
    "#df_clt.fit(x_train, y_train, verbose = True)\n",
    "pred_train = df_clt.predict(x_train)\n",
    "pred_test = df_clt.predict(x_test)\n",
    "\n",
    "print('트레인 예측정확도: {0:.4f}'.format(accuracy_score(y_train,pred_train)))\n",
    "print('테스트 예측정확도: {0:.4f}'.format(accuracy_score(y_test,pred_test)))\n"
   ]
  },
  {
   "cell_type": "code",
   "execution_count": 7,
   "id": "4eb6a1c5",
   "metadata": {},
   "outputs": [
    {
     "name": "stdout",
     "output_type": "stream",
     "text": [
      "트레인 예측정확도: 0.3565\n",
      "테스트 예측정확도: 0.5314\n"
     ]
    }
   ],
   "source": [
    "df2 = pd.read_csv('train.csv')\n",
    "from sklearn.tree import DecisionTreeClassifier\n",
    "df2 = df2[['핵심적발','적출국가코드']]\n",
    "df2 = pd.get_dummies(df2,columns = [\"적출국가코드\"])\n",
    "df_y = df2['핵심적발']\n",
    "df_x = df2.drop('핵심적발',axis=1)\n",
    "x_train, x_test, y_train, y_test = train_test_split(df_x,df_y,test_size=0.2, random_state=42)\n",
    "oversampling_instance = RandomOverSampler(random_state=42)\n",
    "x_train, y_train = oversampling_instance.fit_resample(x_train, y_train)\n",
    "\n",
    "df_clt = DecisionTreeClassifier()\n",
    "df_clt.fit(x_train, y_train)\n",
    "#df_clt.fit(x_train, y_train, verbose = True)\n",
    "pred_train = df_clt.predict(x_train)\n",
    "pred_test = df_clt.predict(x_test)\n",
    "\n",
    "print('트레인 예측정확도: {0:.4f}'.format(accuracy_score(y_train,pred_train)))\n",
    "print('테스트 예측정확도: {0:.4f}'.format(accuracy_score(y_test,pred_test)))"
   ]
  },
  {
   "cell_type": "code",
   "execution_count": 11,
   "id": "399bc206",
   "metadata": {},
   "outputs": [
    {
     "data": {
      "text/plain": [
       "Index(['반입보세구역부호_100', '반입보세구역부호_101', '반입보세구역부호_110', '반입보세구역부호_111',\n",
       "       '반입보세구역부호_120', '반입보세구역부호_121', '반입보세구역부호_122', '반입보세구역부호_130',\n",
       "       '반입보세구역부호_131', '반입보세구역부호_135', '반입보세구역부호_140', '반입보세구역부호_141',\n",
       "       '반입보세구역부호_150', '반입보세구역부호_151', '반입보세구역부호_152', '반입보세구역부호_153',\n",
       "       '반입보세구역부호_154', '반입보세구역부호_160', '반입보세구역부호_161', '반입보세구역부호_164',\n",
       "       '반입보세구역부호_167', '반입보세구역부호_169', '반입보세구역부호_200', '반입보세구역부호_201',\n",
       "       '반입보세구역부호_204', '반입보세구역부호_207', '반입보세구역부호_208', '반입보세구역부호_210',\n",
       "       '반입보세구역부호_211', '반입보세구역부호_219', '반입보세구역부호_230', '반입보세구역부호_238',\n",
       "       '반입보세구역부호_300', '반입보세구역부호_301', '반입보세구역부호_307', '반입보세구역부호_308',\n",
       "       '반입보세구역부호_309', '반입보세구역부호_330', '반입보세구역부호_331', '반입보세구역부호_338',\n",
       "       '반입보세구역부호_351', '반입보세구역부호_357', '반입보세구역부호_375', '반입보세구역부호_390',\n",
       "       '반입보세구역부호_391', '반입보세구역부호_398', '반입보세구역부호_400', '반입보세구역부호_401',\n",
       "       '반입보세구역부호_407', '반입보세구역부호_409', '반입보세구역부호_410', '반입보세구역부호_411',\n",
       "       '반입보세구역부호_504', '반입보세구역부호_530', '반입보세구역부호_531', '반입보세구역부호_541',\n",
       "       '반입보세구역부호_549', '반입보세구역부호_561', '반입보세구역부호_621', '반입보세구역부호_627',\n",
       "       '반입보세구역부호_704', '반입보세구역부호_709', '반입보세구역부호_711', '반입보세구역부호_800',\n",
       "       '반입보세구역부호_801', '반입보세구역부호_807', '반입보세구역부호_808', '반입보세구역부호_811',\n",
       "       '반입보세구역부호_820', '반입보세구역부호_821', '반입보세구역부호_829', '반입보세구역부호_909'],\n",
       "      dtype='object')"
      ]
     },
     "execution_count": 11,
     "metadata": {},
     "output_type": "execute_result"
    }
   ],
   "source": [
    "df_x.keys()"
   ]
  },
  {
   "cell_type": "code",
   "execution_count": 19,
   "id": "cbc1f545",
   "metadata": {},
   "outputs": [
    {
     "name": "stdout",
     "output_type": "stream",
     "text": [
      "트레인 예측정확도: 0.3608\n",
      "테스트 예측정확도: 0.4515\n"
     ]
    }
   ],
   "source": [
    "df2 = pd.read_csv('train.csv')\n",
    "from sklearn.tree import DecisionTreeClassifier\n",
    "df2 = df2[['핵심적발','운송수단유형코드']]\n",
    "df2 = pd.get_dummies(df2,columns = [\"운송수단유형코드\"])\n",
    "df_y = df2['핵심적발']\n",
    "df_x = df2.drop('핵심적발',axis=1)\n",
    "x_train, x_test, y_train, y_test = train_test_split(df_x,df_y,test_size=0.2, random_state=42)\n",
    "oversampling_instance = RandomOverSampler(random_state=42)\n",
    "x_train, y_train = oversampling_instance.fit_resample(x_train, y_train)\n",
    "\n",
    "df_clt = DecisionTreeClassifier(max_depth=7)\n",
    "df_clt.fit(x_train, y_train)\n",
    "#df_clt.fit(x_train, y_train, verbose = True)\n",
    "pred_train = df_clt.predict(x_train)\n",
    "pred_test = df_clt.predict(x_test)\n",
    "\n",
    "print('트레인 예측정확도: {0:.4f}'.format(accuracy_score(y_train,pred_train)))\n",
    "print('테스트 예측정확도: {0:.4f}'.format(accuracy_score(y_test,pred_test)))"
   ]
  },
  {
   "cell_type": "code",
   "execution_count": 2,
   "id": "deef5295",
   "metadata": {},
   "outputs": [
    {
     "data": {
      "text/plain": [
       "40     35000\n",
       "20     23933\n",
       "30     11773\n",
       "10      7641\n",
       "16      4770\n",
       "13      1736\n",
       "33       547\n",
       "53       389\n",
       "62       271\n",
       "12       269\n",
       "39       258\n",
       "140      249\n",
       "41       244\n",
       "80       241\n",
       "21       224\n",
       "131      177\n",
       "121      167\n",
       "70       155\n",
       "17       153\n",
       "130      148\n",
       "151      140\n",
       "23       137\n",
       "82       133\n",
       "122       94\n",
       "150       85\n",
       "37        79\n",
       "50        75\n",
       "56        72\n",
       "14        71\n",
       "154       61\n",
       "100       55\n",
       "54        54\n",
       "153       38\n",
       "110       37\n",
       "81        35\n",
       "152       29\n",
       "120       28\n",
       "90        27\n",
       "71        24\n",
       "Name: 통관지세관부호, dtype: int64"
      ]
     },
     "execution_count": 2,
     "metadata": {},
     "output_type": "execute_result"
    }
   ],
   "source": [
    "## 변수 전처리 과정 설명\n",
    "## 우선 대부분의 범주형 변수는 코드이기 때문에 순서형 변수가 아닌 명목형 변수임으로 원 핫 인코딩 방식을 사용함.\n",
    "## 연속형 변수에 경우 모두 오른쪽 꼬리가 긴 형태이기 때문에 로그변환을 해줌.\n",
    "## 통관지 세관부호\n",
    "df2['통관지세관부호'].value_counts()"
   ]
  },
  {
   "cell_type": "code",
   "execution_count": 5,
   "id": "c3552899",
   "metadata": {},
   "outputs": [
    {
     "data": {
      "text/plain": [
       "통관지세관부호\n",
       "10     0.123937\n",
       "12     0.479554\n",
       "13     0.366935\n",
       "14     0.492958\n",
       "16     0.292453\n",
       "17     0.666667\n",
       "20     0.205825\n",
       "21     0.517857\n",
       "23     0.562044\n",
       "30     0.239701\n",
       "33     0.462523\n",
       "37     0.670886\n",
       "39     0.441860\n",
       "40     0.187514\n",
       "41     0.545082\n",
       "50     0.480000\n",
       "53     0.475578\n",
       "54     0.648148\n",
       "56     0.652778\n",
       "62     0.505535\n",
       "70     0.535484\n",
       "71     0.625000\n",
       "80     0.514523\n",
       "81     0.514286\n",
       "82     0.541353\n",
       "90     0.518519\n",
       "100    0.472727\n",
       "110    0.486486\n",
       "120    0.428571\n",
       "121    0.508982\n",
       "122    0.521277\n",
       "130    0.567568\n",
       "131    0.576271\n",
       "140    0.506024\n",
       "150    0.576471\n",
       "151    0.621429\n",
       "152    0.413793\n",
       "153    0.736842\n",
       "154    0.606557\n",
       "Name: 우범여부, dtype: float64"
      ]
     },
     "execution_count": 5,
     "metadata": {},
     "output_type": "execute_result"
    }
   ],
   "source": [
    "df2.groupby('통관지세관부호')['우범여부'].mean()"
   ]
  },
  {
   "cell_type": "code",
   "execution_count": null,
   "id": "9365a0fa",
   "metadata": {},
   "outputs": [],
   "source": [
    "## 1. 통관지세관부호 변수를 관찰한 결과 통관지별로 우범률이 유의미하게 차이남.\n",
    "## 2. 다만 1000개 이하의 표본을 가진 통관지세관부호는 값이 튈수 있다고 판단. 나머지 변수로써 묶어줌."
   ]
  },
  {
   "cell_type": "code",
   "execution_count": 7,
   "id": "1628cac4",
   "metadata": {},
   "outputs": [
    {
     "data": {
      "text/plain": [
       "C    32336\n",
       "D    31522\n",
       "F     8498\n",
       "E     8181\n",
       "B     6773\n",
       "Z     2145\n",
       "H      164\n",
       "Name: 수입통관계획코드, dtype: int64"
      ]
     },
     "execution_count": 7,
     "metadata": {},
     "output_type": "execute_result"
    }
   ],
   "source": [
    "## 수입통관계획코드\n",
    "df2['수입통관계획코드'].value_counts()"
   ]
  },
  {
   "cell_type": "code",
   "execution_count": 9,
   "id": "2f716386",
   "metadata": {},
   "outputs": [
    {
     "data": {
      "text/plain": [
       "수입통관계획코드\n",
       "B    0.098922\n",
       "C    0.200922\n",
       "D    0.209219\n",
       "E    0.314631\n",
       "F    0.296423\n",
       "H    0.554878\n",
       "Z    0.390210\n",
       "Name: 우범여부, dtype: float64"
      ]
     },
     "execution_count": 9,
     "metadata": {},
     "output_type": "execute_result"
    }
   ],
   "source": [
    "df2.groupby('수입통관계획코드')['우범여부'].mean()"
   ]
  },
  {
   "cell_type": "code",
   "execution_count": null,
   "id": "07af6b9c",
   "metadata": {},
   "outputs": [],
   "source": [
    "## 1. C : 보세구역 도착전신고(부두밖 또는 내륙지세관 통관희망물품)\n",
    "## D : 보세구역장치후신고(부두밖 또는 내륙지세관 통관희망물품)\n",
    "## E : 보세구역 도착전신고(부두내 직반출 희망물품)\n",
    "## F : 보세구역 도착후신고(부두내 직반출 희망물품)\n",
    "## H : 적하목록이 없는 물품 신고(휴대품)\n",
    "## Z : 적하목록이 없는 물품 신고(선용품 등)\n",
    "## 2. CD, EF, HZ 끼리 의미뿐만 아니라 값도 비슷해서 묶어줌. 조금 나는 값 차이는 오차라고 생각.\n",
    "## (H와 Z는 값이 다소 차이나지만 Z의 표본수가 상대적으로 적어 값이 튀었다고 생각.)"
   ]
  },
  {
   "cell_type": "code",
   "execution_count": 10,
   "id": "fd2f4734",
   "metadata": {},
   "outputs": [
    {
     "data": {
      "text/plain": [
       "11    53584\n",
       "15    19875\n",
       "94     6679\n",
       "87     3205\n",
       "91     3103\n",
       "89      310\n",
       "83      271\n",
       "96      269\n",
       "88      243\n",
       "92      242\n",
       "29      232\n",
       "84      229\n",
       "93      221\n",
       "13      198\n",
       "21      144\n",
       "71      139\n",
       "22      135\n",
       "80      120\n",
       "85       96\n",
       "86       82\n",
       "12       76\n",
       "51       73\n",
       "53       50\n",
       "55       26\n",
       "59       17\n",
       "Name: 수입거래구분코드, dtype: int64"
      ]
     },
     "execution_count": 10,
     "metadata": {},
     "output_type": "execute_result"
    }
   ],
   "source": [
    "## 수입거래구분코드\n",
    "df2['수입거래구분코드'].value_counts()"
   ]
  },
  {
   "cell_type": "code",
   "execution_count": 11,
   "id": "09e09372",
   "metadata": {},
   "outputs": [
    {
     "data": {
      "text/plain": [
       "수입거래구분코드\n",
       "11    0.167830\n",
       "12    0.578947\n",
       "13    0.570707\n",
       "15    0.240956\n",
       "21    0.541667\n",
       "22    0.459259\n",
       "29    0.538793\n",
       "51    0.684932\n",
       "53    0.560000\n",
       "55    0.576923\n",
       "59    0.529412\n",
       "71    0.482014\n",
       "80    0.600000\n",
       "83    0.546125\n",
       "84    0.554585\n",
       "85    0.552083\n",
       "86    0.597561\n",
       "87    0.356942\n",
       "88    0.543210\n",
       "89    0.490323\n",
       "91    0.369320\n",
       "92    0.537190\n",
       "93    0.533937\n",
       "94    0.298248\n",
       "96    0.546468\n",
       "Name: 우범여부, dtype: float64"
      ]
     },
     "execution_count": 11,
     "metadata": {},
     "output_type": "execute_result"
    }
   ],
   "source": [
    "df2.groupby('수입거래구분코드')['우범여부'].mean()"
   ]
  },
  {
   "cell_type": "code",
   "execution_count": null,
   "id": "ed795467",
   "metadata": {},
   "outputs": [],
   "source": [
    "## 1. 1000개 이하의 샘플이 있는 수입거래구분코드는 나눠주는 것이 큰 의미가 없을거 같아서 묶음.\n",
    "## 2. 87, 91번 코드의 우범여부값이 상당히 비슷해서 묶어줌."
   ]
  },
  {
   "cell_type": "code",
   "execution_count": 12,
   "id": "8eb07d51",
   "metadata": {},
   "outputs": [
    {
     "data": {
      "text/plain": [
       "21    81364\n",
       "11     6406\n",
       "26     1131\n",
       "28      200\n",
       "23      129\n",
       "15      102\n",
       "13       99\n",
       "12       95\n",
       "31       65\n",
       "35       28\n",
       "Name: 수입종류코드, dtype: int64"
      ]
     },
     "execution_count": 12,
     "metadata": {},
     "output_type": "execute_result"
    }
   ],
   "source": [
    "## 수입종류코드\n",
    "df2['수입종류코드'].value_counts()"
   ]
  },
  {
   "cell_type": "code",
   "execution_count": 13,
   "id": "5b3b386e",
   "metadata": {},
   "outputs": [
    {
     "data": {
      "text/plain": [
       "수입종류코드\n",
       "11    0.111302\n",
       "12    0.589474\n",
       "13    0.545455\n",
       "15    0.598039\n",
       "21    0.222002\n",
       "23    0.682171\n",
       "26    0.502210\n",
       "28    0.630000\n",
       "31    0.676923\n",
       "35    0.357143\n",
       "Name: 우범여부, dtype: float64"
      ]
     },
     "execution_count": 13,
     "metadata": {},
     "output_type": "execute_result"
    }
   ],
   "source": [
    "df2.groupby('수입종류코드')['우범여부'].mean()"
   ]
  },
  {
   "cell_type": "code",
   "execution_count": null,
   "id": "5bdb432e",
   "metadata": {},
   "outputs": [],
   "source": [
    "## 1. 11번코드 일반-내수, 21번코드 일반-외화, 26번코드 우편, 나머지는 표본수가 작아서 묶어줌."
   ]
  },
  {
   "cell_type": "code",
   "execution_count": 14,
   "id": "72e69122",
   "metadata": {},
   "outputs": [
    {
     "data": {
      "text/plain": [
       "11    71361\n",
       "43     5621\n",
       "18     4360\n",
       "21     2800\n",
       "14     2385\n",
       "0      2361\n",
       "13      328\n",
       "12      171\n",
       "33      138\n",
       "1        50\n",
       "24       44\n",
       "Name: 징수형태코드, dtype: int64"
      ]
     },
     "execution_count": 14,
     "metadata": {},
     "output_type": "execute_result"
    }
   ],
   "source": [
    "## 징수형태코드\n",
    "df2['징수형태코드'].value_counts()"
   ]
  },
  {
   "cell_type": "code",
   "execution_count": 15,
   "id": "14e3c2f2",
   "metadata": {},
   "outputs": [
    {
     "data": {
      "text/plain": [
       "징수형태코드\n",
       "0     0.311732\n",
       "1     0.680000\n",
       "11    0.179888\n",
       "12    0.619883\n",
       "13    0.478659\n",
       "14    0.423480\n",
       "18    0.375000\n",
       "21    0.405357\n",
       "24    0.409091\n",
       "33    0.500000\n",
       "43    0.363992\n",
       "Name: 우범여부, dtype: float64"
      ]
     },
     "execution_count": 15,
     "metadata": {},
     "output_type": "execute_result"
    }
   ],
   "source": [
    "df2.groupby('징수형태코드')['우범여부'].mean()"
   ]
  },
  {
   "cell_type": "code",
   "execution_count": null,
   "id": "56d02235",
   "metadata": {},
   "outputs": [],
   "source": [
    "## 24은 21번과 의미도 유사하고 값도 비슷하므로 구분하는게 의미가 없어서 21번코드와 같은 취급을 해줌\n",
    "## 12,33,1번 코드는 너무 표본 숫자가 적어 기타 코드로 묶어줌."
   ]
  },
  {
   "cell_type": "code",
   "execution_count": 16,
   "id": "078c6afe",
   "metadata": {},
   "outputs": [
    {
     "data": {
      "text/plain": [
       "40    43517\n",
       "10    42961\n",
       "50     1404\n",
       "30     1320\n",
       "90      248\n",
       "20      169\n",
       "Name: 운송수단유형코드, dtype: int64"
      ]
     },
     "execution_count": 16,
     "metadata": {},
     "output_type": "execute_result"
    }
   ],
   "source": [
    "## 운송수단유형코드\n",
    "df2['운송수단유형코드'].value_counts()"
   ]
  },
  {
   "cell_type": "code",
   "execution_count": 17,
   "id": "6ac43348",
   "metadata": {},
   "outputs": [
    {
     "data": {
      "text/plain": [
       "운송수단유형코드\n",
       "10    0.193455\n",
       "20    0.585799\n",
       "30    0.453030\n",
       "40    0.229221\n",
       "50    0.468661\n",
       "90    0.572581\n",
       "Name: 우범여부, dtype: float64"
      ]
     },
     "execution_count": 17,
     "metadata": {},
     "output_type": "execute_result"
    }
   ],
   "source": [
    "df2.groupby('운송수단유형코드')['우범여부'].mean()"
   ]
  },
  {
   "cell_type": "code",
   "execution_count": null,
   "id": "2050cc81",
   "metadata": {},
   "outputs": [],
   "source": [
    "## 30 - 차량, 50 - 우편 값도 유사하고 우편은 차량으로 결국 운송된다 생각해서 두 값을 동일한 값으로 묶어줌\n",
    "## 90, 20은 표본이 부족해서 기타 코드로 묶어줌."
   ]
  },
  {
   "cell_type": "code",
   "execution_count": 20,
   "id": "5aacfb8b",
   "metadata": {},
   "outputs": [
    {
     "data": {
      "text/plain": [
       "<AxesSubplot:>"
      ]
     },
     "execution_count": 20,
     "metadata": {},
     "output_type": "execute_result"
    },
    {
     "data": {
      "image/png": "[encoded data removed]",
      "text/plain": [
       "<Figure size 432x288 with 1 Axes>"
      ]
     },
     "metadata": {
      "needs_background": "light"
     },
     "output_type": "display_data"
    }
   ],
   "source": [
    "df2[\"신고중량(KG)\"] = np.log(df2[\"신고중량(KG)\"])\n",
    "(df2['신고중량(KG)']).hist()"
   ]
  },
  {
   "cell_type": "code",
   "execution_count": 21,
   "id": "fd8e0166",
   "metadata": {},
   "outputs": [
    {
     "data": {
      "image/png": "[encoded data removed]",
      "text/plain": [
       "<Figure size 432x288 with 1 Axes>"
      ]
     },
     "metadata": {
      "needs_background": "light"
     },
     "output_type": "display_data"
    }
   ],
   "source": [
    "plt.boxplot(df2[\"신고중량(KG)\"])\n",
    "plt.show()"
   ]
  },
  {
   "cell_type": "code",
   "execution_count": null,
   "id": "508668f1",
   "metadata": {},
   "outputs": [],
   "source": [
    "## 극단값이 많은 분포임으로 이를 해결하기 위해 값을 임의로 조정했습니다.\n",
    "## 10.9, 4.2를 기준으로 한 이유는 구간별 분포를 R로 심도깊게 확인하였습니다."
   ]
  },
  {
   "cell_type": "code",
   "execution_count": 24,
   "id": "01d8b736",
   "metadata": {},
   "outputs": [
    {
     "name": "stderr",
     "output_type": "stream",
     "text": [
      "<ipython-input-24-42de1b3b86e2>:1: SettingWithCopyWarning: \n",
      "A value is trying to be set on a copy of a slice from a DataFrame\n",
      "\n",
      "See the caveats in the documentation: https://pandas.pydata.org/pandas-docs/stable/user_guide/indexing.html#returning-a-view-versus-a-copy\n",
      "  df2['관세율'][ df2['관세율'] < 1 ] = 0.1\n"
     ]
    },
    {
     "data": {
      "text/plain": [
       "<AxesSubplot:>"
      ]
     },
     "execution_count": 24,
     "metadata": {},
     "output_type": "execute_result"
    },
    {
     "data": {
      "image/png": "[encoded data removed]",
      "text/plain": [
       "<Figure size 432x288 with 1 Axes>"
      ]
     },
     "metadata": {
      "needs_background": "light"
     },
     "output_type": "display_data"
    }
   ],
   "source": [
    "df2['관세율'][ df2['관세율'] < 1 ] = 0.1\n",
    "df2[\"관세율\"] = np.log(df2[\"관세율\"])\n",
    "(df2['관세율']).hist()"
   ]
  },
  {
   "cell_type": "code",
   "execution_count": 25,
   "id": "6d4c8945",
   "metadata": {},
   "outputs": [
    {
     "data": {
      "image/png": "[encoded data removed]",
      "text/plain": [
       "<Figure size 432x288 with 1 Axes>"
      ]
     },
     "metadata": {
      "needs_background": "light"
     },
     "output_type": "display_data"
    }
   ],
   "source": [
    "plt.boxplot(df2[\"관세율\"])\n",
    "plt.show()"
   ]
  },
  {
   "cell_type": "code",
   "execution_count": null,
   "id": "aabbeb13",
   "metadata": {},
   "outputs": [],
   "source": [
    "## 극단값이 많은 분포임으로 이를 해결하기 위해 값을 임의로 조정했습니다.\n",
    "## 0은 로그를 취할수 없으므로 0.1로 조정했습니다."
   ]
  },
  {
   "cell_type": "code",
   "execution_count": 26,
   "id": "bd4b3a45",
   "metadata": {},
   "outputs": [
    {
     "data": {
      "text/plain": [
       "<AxesSubplot:>"
      ]
     },
     "execution_count": 26,
     "metadata": {},
     "output_type": "execute_result"
    },
    {
     "data": {
      "image/png": "[encoded data removed]",
      "text/plain": [
       "<Figure size 432x288 with 1 Axes>"
      ]
     },
     "metadata": {
      "needs_background": "light"
     },
     "output_type": "display_data"
    }
   ],
   "source": [
    "df2[\"과세가격원화금액\"] = np.log1p(df2[\"과세가격원화금액\"])\n",
    "(df2['과세가격원화금액']).hist()"
   ]
  },
  {
   "cell_type": "code",
   "execution_count": 27,
   "id": "ae36f23f",
   "metadata": {},
   "outputs": [
    {
     "data": {
      "image/png": "[encoded data removed]",
      "text/plain": [
       "<Figure size 432x288 with 1 Axes>"
      ]
     },
     "metadata": {
      "needs_background": "light"
     },
     "output_type": "display_data"
    }
   ],
   "source": [
    "plt.boxplot(df2[\"과세가격원화금액\"])\n",
    "plt.show()"
   ]
  },
  {
   "cell_type": "code",
   "execution_count": 30,
   "id": "3a9dc10e",
   "metadata": {},
   "outputs": [
    {
     "data": {
      "text/plain": [
       "960"
      ]
     },
     "execution_count": 30,
     "metadata": {},
     "output_type": "execute_result"
    }
   ],
   "source": [
    "df2['우범여부'][ df2['과세가격원화금액'] == 0 ].count()"
   ]
  },
  {
   "cell_type": "code",
   "execution_count": 28,
   "id": "3af192b3",
   "metadata": {},
   "outputs": [
    {
     "data": {
      "text/plain": [
       "0.19270833333333334"
      ]
     },
     "execution_count": 28,
     "metadata": {},
     "output_type": "execute_result"
    }
   ],
   "source": [
    "df2['우범여부'][ df2['과세가격원화금액'] == 0 ].mean()"
   ]
  },
  {
   "cell_type": "code",
   "execution_count": 29,
   "id": "ae7babfd",
   "metadata": {},
   "outputs": [
    {
     "data": {
      "text/plain": [
       "0.2317753001715266"
      ]
     },
     "execution_count": 29,
     "metadata": {},
     "output_type": "execute_result"
    }
   ],
   "source": [
    "df2['우범여부'][(df2['과세가격원화금액'] < 8.2) & (df2[\"과세가격원화금액\"] > 0)].mean()"
   ]
  },
  {
   "cell_type": "code",
   "execution_count": null,
   "id": "8fe9bf09",
   "metadata": {},
   "outputs": [],
   "source": [
    "## 초기 과세가격원화금액이 아에 0인값의 갯수가 어느정도 있으므로 이는 좀 특별하게 관찰해야 한다고 생각함.\n",
    "## 0인값의 우범여부는 낮은값을, 0~8.2 사이 값은 과세가격원화금액의 평균값을 대입함.\n",
    "## 이유는 과세가격원화금액이 클수록 우범여부가 증가하는 경향을 보였기 때문."
   ]
  },
  {
   "cell_type": "code",
   "execution_count": null,
   "id": "3b2f30c6",
   "metadata": {},
   "outputs": [],
   "source": [
    "## 신고인부호, 수입자부호, 해외거래처부호, 특송업체부호 변수는 같은 이름 또는 같은 업체에 동 기간 내 처리된 갯수를\n",
    "## 변수로 사용했을때 공통적으로 더 많은 거래량이 있는 이름 또는 업체에 경우 우범여부가 감소하는 경향이 있음\n",
    "## 이는 R로 관찰했기 때문에 R코드를 따로 첨부합니다."
   ]
  },
  {
   "cell_type": "code",
   "execution_count": null,
   "id": "c6f77a7d",
   "metadata": {},
   "outputs": [],
   "source": [
    "## 다음으로 모델선정 기준에 대해 설명하겠습니다."
   ]
  },
  {
   "cell_type": "code",
   "execution_count": 31,
   "id": "0dd26602",
   "metadata": {},
   "outputs": [
    {
     "name": "stderr",
     "output_type": "stream",
     "text": [
      "<ipython-input-31-a107ebcded54>:7: SettingWithCopyWarning: \n",
      "A value is trying to be set on a copy of a slice from a DataFrame\n",
      "\n",
      "See the caveats in the documentation: https://pandas.pydata.org/pandas-docs/stable/user_guide/indexing.html#returning-a-view-versus-a-copy\n",
      "  df2['통관지세관부호'][ df2['통관지세관부호'] == 10 ] = 1\n",
      "<ipython-input-31-a107ebcded54>:8: SettingWithCopyWarning: \n",
      "A value is trying to be set on a copy of a slice from a DataFrame\n",
      "\n",
      "See the caveats in the documentation: https://pandas.pydata.org/pandas-docs/stable/user_guide/indexing.html#returning-a-view-versus-a-copy\n",
      "  df2['통관지세관부호'][ df2['통관지세관부호'] == 40 ] = 2\n",
      "<ipython-input-31-a107ebcded54>:9: SettingWithCopyWarning: \n",
      "A value is trying to be set on a copy of a slice from a DataFrame\n",
      "\n",
      "See the caveats in the documentation: https://pandas.pydata.org/pandas-docs/stable/user_guide/indexing.html#returning-a-view-versus-a-copy\n",
      "  df2['통관지세관부호'][ df2['통관지세관부호'] == 20 ] = 3\n",
      "<ipython-input-31-a107ebcded54>:10: SettingWithCopyWarning: \n",
      "A value is trying to be set on a copy of a slice from a DataFrame\n",
      "\n",
      "See the caveats in the documentation: https://pandas.pydata.org/pandas-docs/stable/user_guide/indexing.html#returning-a-view-versus-a-copy\n",
      "  df2['통관지세관부호'][ df2['통관지세관부호'] == 30 ] = 4\n",
      "<ipython-input-31-a107ebcded54>:11: SettingWithCopyWarning: \n",
      "A value is trying to be set on a copy of a slice from a DataFrame\n",
      "\n",
      "See the caveats in the documentation: https://pandas.pydata.org/pandas-docs/stable/user_guide/indexing.html#returning-a-view-versus-a-copy\n",
      "  df2['통관지세관부호'][ df2['통관지세관부호'] == 16 ] = 5\n",
      "<ipython-input-31-a107ebcded54>:12: SettingWithCopyWarning: \n",
      "A value is trying to be set on a copy of a slice from a DataFrame\n",
      "\n",
      "See the caveats in the documentation: https://pandas.pydata.org/pandas-docs/stable/user_guide/indexing.html#returning-a-view-versus-a-copy\n",
      "  df2['통관지세관부호'][ df2['통관지세관부호'] == 13 ] = 6\n",
      "<ipython-input-31-a107ebcded54>:13: SettingWithCopyWarning: \n",
      "A value is trying to be set on a copy of a slice from a DataFrame\n",
      "\n",
      "See the caveats in the documentation: https://pandas.pydata.org/pandas-docs/stable/user_guide/indexing.html#returning-a-view-versus-a-copy\n",
      "  df2['통관지세관부호'][ df2['통관지세관부호'] > 7] = 7\n",
      "<ipython-input-31-a107ebcded54>:46: SettingWithCopyWarning: \n",
      "A value is trying to be set on a copy of a slice from a DataFrame\n",
      "\n",
      "See the caveats in the documentation: https://pandas.pydata.org/pandas-docs/stable/user_guide/indexing.html#returning-a-view-versus-a-copy\n",
      "  df2['수입통관계획코드'][ df2['수입통관계획코드'].isin(['C','D']) ] = 'CD'\n",
      "<ipython-input-31-a107ebcded54>:47: SettingWithCopyWarning: \n",
      "A value is trying to be set on a copy of a slice from a DataFrame\n",
      "\n",
      "See the caveats in the documentation: https://pandas.pydata.org/pandas-docs/stable/user_guide/indexing.html#returning-a-view-versus-a-copy\n",
      "  df2['수입통관계획코드'][ df2['수입통관계획코드'].isin(['E','F']) ] = 'EF'\n",
      "<ipython-input-31-a107ebcded54>:48: SettingWithCopyWarning: \n",
      "A value is trying to be set on a copy of a slice from a DataFrame\n",
      "\n",
      "See the caveats in the documentation: https://pandas.pydata.org/pandas-docs/stable/user_guide/indexing.html#returning-a-view-versus-a-copy\n",
      "  df2['수입통관계획코드'][ df2['수입통관계획코드'].isin(['H','Z']) ] = 'HZ'\n",
      "<ipython-input-31-a107ebcded54>:54: SettingWithCopyWarning: \n",
      "A value is trying to be set on a copy of a slice from a DataFrame\n",
      "\n",
      "See the caveats in the documentation: https://pandas.pydata.org/pandas-docs/stable/user_guide/indexing.html#returning-a-view-versus-a-copy\n",
      "  df2['수입거래구분코드'][ df2['수입거래구분코드'] == 11 ] = 1\n",
      "<ipython-input-31-a107ebcded54>:55: SettingWithCopyWarning: \n",
      "A value is trying to be set on a copy of a slice from a DataFrame\n",
      "\n",
      "See the caveats in the documentation: https://pandas.pydata.org/pandas-docs/stable/user_guide/indexing.html#returning-a-view-versus-a-copy\n",
      "  df2['수입거래구분코드'][ df2['수입거래구분코드'] == 15 ] = 2\n",
      "<ipython-input-31-a107ebcded54>:56: SettingWithCopyWarning: \n",
      "A value is trying to be set on a copy of a slice from a DataFrame\n",
      "\n",
      "See the caveats in the documentation: https://pandas.pydata.org/pandas-docs/stable/user_guide/indexing.html#returning-a-view-versus-a-copy\n",
      "  df2['수입거래구분코드'][ df2['수입거래구분코드'] == 94 ] = 3\n",
      "<ipython-input-31-a107ebcded54>:57: SettingWithCopyWarning: \n",
      "A value is trying to be set on a copy of a slice from a DataFrame\n",
      "\n",
      "See the caveats in the documentation: https://pandas.pydata.org/pandas-docs/stable/user_guide/indexing.html#returning-a-view-versus-a-copy\n",
      "  df2['수입거래구분코드'][ df2['수입거래구분코드'].isin([87,91]) ] = 4\n",
      "<ipython-input-31-a107ebcded54>:58: SettingWithCopyWarning: \n",
      "A value is trying to be set on a copy of a slice from a DataFrame\n",
      "\n",
      "See the caveats in the documentation: https://pandas.pydata.org/pandas-docs/stable/user_guide/indexing.html#returning-a-view-versus-a-copy\n",
      "  df2['수입거래구분코드'][ df2['수입거래구분코드'] > 5 ] = 5\n",
      "<ipython-input-31-a107ebcded54>:61: SettingWithCopyWarning: \n",
      "A value is trying to be set on a copy of a slice from a DataFrame\n",
      "\n",
      "See the caveats in the documentation: https://pandas.pydata.org/pandas-docs/stable/user_guide/indexing.html#returning-a-view-versus-a-copy\n",
      "  df2['수입종류코드'][ df2['수입종류코드'] == 11 ] = 1\n",
      "<ipython-input-31-a107ebcded54>:62: SettingWithCopyWarning: \n",
      "A value is trying to be set on a copy of a slice from a DataFrame\n",
      "\n",
      "See the caveats in the documentation: https://pandas.pydata.org/pandas-docs/stable/user_guide/indexing.html#returning-a-view-versus-a-copy\n",
      "  df2['수입종류코드'][ df2['수입종류코드'] == 21 ] = 2\n",
      "<ipython-input-31-a107ebcded54>:63: SettingWithCopyWarning: \n",
      "A value is trying to be set on a copy of a slice from a DataFrame\n",
      "\n",
      "See the caveats in the documentation: https://pandas.pydata.org/pandas-docs/stable/user_guide/indexing.html#returning-a-view-versus-a-copy\n",
      "  df2['수입종류코드'][ df2['수입종류코드'] == 26 ] = 3\n",
      "<ipython-input-31-a107ebcded54>:64: SettingWithCopyWarning: \n",
      "A value is trying to be set on a copy of a slice from a DataFrame\n",
      "\n",
      "See the caveats in the documentation: https://pandas.pydata.org/pandas-docs/stable/user_guide/indexing.html#returning-a-view-versus-a-copy\n",
      "  df2['수입종류코드'][ df2['수입종류코드'] > 4 ] = 4\n",
      "<ipython-input-31-a107ebcded54>:67: SettingWithCopyWarning: \n",
      "A value is trying to be set on a copy of a slice from a DataFrame\n",
      "\n",
      "See the caveats in the documentation: https://pandas.pydata.org/pandas-docs/stable/user_guide/indexing.html#returning-a-view-versus-a-copy\n",
      "  df2['징수형태코드'][ df2['징수형태코드'] == 24 ] = 21\n",
      "<ipython-input-31-a107ebcded54>:68: SettingWithCopyWarning: \n",
      "A value is trying to be set on a copy of a slice from a DataFrame\n",
      "\n",
      "See the caveats in the documentation: https://pandas.pydata.org/pandas-docs/stable/user_guide/indexing.html#returning-a-view-versus-a-copy\n",
      "  df2['징수형태코드'][ df2['징수형태코드'].isin([1,12,33]) ] = 99\n",
      "<ipython-input-31-a107ebcded54>:77: SettingWithCopyWarning: \n",
      "A value is trying to be set on a copy of a slice from a DataFrame\n",
      "\n",
      "See the caveats in the documentation: https://pandas.pydata.org/pandas-docs/stable/user_guide/indexing.html#returning-a-view-versus-a-copy\n",
      "  df2[\"신고중량(KG)\"][df2[\"신고중량(KG)\"] > 10.9] = 11\n",
      "<ipython-input-31-a107ebcded54>:78: SettingWithCopyWarning: \n",
      "A value is trying to be set on a copy of a slice from a DataFrame\n",
      "\n",
      "See the caveats in the documentation: https://pandas.pydata.org/pandas-docs/stable/user_guide/indexing.html#returning-a-view-versus-a-copy\n",
      "  df2[\"신고중량(KG)\"][df2[\"신고중량(KG)\"] < 4.2] = 4\n",
      "<ipython-input-31-a107ebcded54>:87: SettingWithCopyWarning: \n",
      "A value is trying to be set on a copy of a slice from a DataFrame\n",
      "\n",
      "See the caveats in the documentation: https://pandas.pydata.org/pandas-docs/stable/user_guide/indexing.html#returning-a-view-versus-a-copy\n",
      "  df2['과세가격원화금액'][ (df2['과세가격원화금액'] < 8.2) & (df2[\"과세가격원화금액\"] > 0)] = 12.145#df2['과세가격원화금액'].mean()\n",
      "<ipython-input-31-a107ebcded54>:88: SettingWithCopyWarning: \n",
      "A value is trying to be set on a copy of a slice from a DataFrame\n",
      "\n",
      "See the caveats in the documentation: https://pandas.pydata.org/pandas-docs/stable/user_guide/indexing.html#returning-a-view-versus-a-copy\n",
      "  df2['과세가격원화금액'][ df2['과세가격원화금액'] == 0 ] = 8\n",
      "<ipython-input-31-a107ebcded54>:89: SettingWithCopyWarning: \n",
      "A value is trying to be set on a copy of a slice from a DataFrame\n",
      "\n",
      "See the caveats in the documentation: https://pandas.pydata.org/pandas-docs/stable/user_guide/indexing.html#returning-a-view-versus-a-copy\n",
      "  df2['과세가격원화금액'][ df2['과세가격원화금액'] > 19 ] = 19\n",
      "<ipython-input-31-a107ebcded54>:93: SettingWithCopyWarning: \n",
      "A value is trying to be set on a copy of a slice from a DataFrame\n",
      "\n",
      "See the caveats in the documentation: https://pandas.pydata.org/pandas-docs/stable/user_guide/indexing.html#returning-a-view-versus-a-copy\n",
      "  df2['운송수단유형코드'][ df2['운송수단유형코드'] == 10 ] = 1\n",
      "<ipython-input-31-a107ebcded54>:94: SettingWithCopyWarning: \n",
      "A value is trying to be set on a copy of a slice from a DataFrame\n",
      "\n",
      "See the caveats in the documentation: https://pandas.pydata.org/pandas-docs/stable/user_guide/indexing.html#returning-a-view-versus-a-copy\n",
      "  df2['운송수단유형코드'][ df2['운송수단유형코드'] == 40 ] = 2\n",
      "<ipython-input-31-a107ebcded54>:95: SettingWithCopyWarning: \n",
      "A value is trying to be set on a copy of a slice from a DataFrame\n",
      "\n",
      "See the caveats in the documentation: https://pandas.pydata.org/pandas-docs/stable/user_guide/indexing.html#returning-a-view-versus-a-copy\n",
      "  df2['운송수단유형코드'][ df2['운송수단유형코드'].isin([30,50]) ] = 3\n",
      "<ipython-input-31-a107ebcded54>:96: SettingWithCopyWarning: \n",
      "A value is trying to be set on a copy of a slice from a DataFrame\n",
      "\n",
      "See the caveats in the documentation: https://pandas.pydata.org/pandas-docs/stable/user_guide/indexing.html#returning-a-view-versus-a-copy\n",
      "  df2['운송수단유형코드'][ df2['운송수단유형코드'] > 4 ] = 4\n",
      "<ipython-input-31-a107ebcded54>:101: SettingWithCopyWarning: \n",
      "A value is trying to be set on a copy of a slice from a DataFrame\n",
      "\n",
      "See the caveats in the documentation: https://pandas.pydata.org/pandas-docs/stable/user_guide/indexing.html#returning-a-view-versus-a-copy\n",
      "  df2['관세율'][ df2['관세율'] < 1 ] = 0.1\n",
      "<ipython-input-31-a107ebcded54>:103: SettingWithCopyWarning: \n",
      "A value is trying to be set on a copy of a slice from a DataFrame\n",
      "\n",
      "See the caveats in the documentation: https://pandas.pydata.org/pandas-docs/stable/user_guide/indexing.html#returning-a-view-versus-a-copy\n",
      "  df2['관세율'][ df2['관세율'] > 5 ] = 5\n"
     ]
    }
   ],
   "source": [
    "#트레인 데이터 전처리\n",
    "df2 = pd.read_csv('train.csv')\n",
    "\n",
    "\n",
    "\n",
    "#df2.groupby('통관지세관부호').size()\n",
    "df2['통관지세관부호'][ df2['통관지세관부호'] == 10 ] = 1\n",
    "df2['통관지세관부호'][ df2['통관지세관부호'] == 40 ] = 2\n",
    "df2['통관지세관부호'][ df2['통관지세관부호'] == 20 ] = 3\n",
    "df2['통관지세관부호'][ df2['통관지세관부호'] == 30 ] = 4\n",
    "df2['통관지세관부호'][ df2['통관지세관부호'] == 16 ] = 5\n",
    "df2['통관지세관부호'][ df2['통관지세관부호'] == 13 ] = 6\n",
    "df2['통관지세관부호'][ df2['통관지세관부호'] > 7] = 7\n",
    "\n",
    "#신고인부호\n",
    "size1 = df2.groupby('신고인부호').size()\n",
    "size = size1[df2['신고인부호']].reset_index(drop=True)\n",
    "df2['신고인부호'] = size\n",
    "df2['신고인부호'] = np.log1p(df2['신고인부호'])\n",
    "\n",
    "#수입자부호\n",
    "su = set(df2['수입자부호'])\n",
    "df2['수입자부호'].fillna('No', inplace= True)\n",
    "size2 = df2.groupby('수입자부호').size()\n",
    "size = size2[df2['수입자부호']].reset_index(drop=True)\n",
    "df2['수입자부호'] = size\n",
    "df2['수입자부호'] = np.log1p(df2['수입자부호'])\n",
    "\n",
    "#해외거래처부호\n",
    "ha = set(df2['해외거래처부호'])\n",
    "df2['해외거래처부호'].fillna('No', inplace= True)\n",
    "size3 = df2.groupby('해외거래처부호').size()\n",
    "size = size3[df2['해외거래처부호']].reset_index(drop=True)\n",
    "df2['해외거래처부호'] = size\n",
    "df2['해외거래처부호'] = np.log1p(df2['해외거래처부호'])\n",
    "\n",
    "\n",
    "#특송업체부호\n",
    "df2['특송업체부호'].fillna('No', inplace= True)\n",
    "size4 = df2.groupby('특송업체부호').size()\n",
    "size = size4[df2['특송업체부호']].reset_index(drop=True)\n",
    "df2['특송업체부호'] = size\n",
    "df2['특송업체부호'] = np.log1p(df2['특송업체부호'])\n",
    "\n",
    "#수입통관계획코드\n",
    "df2['수입통관계획코드'][ df2['수입통관계획코드'].isin(['C','D']) ] = 'CD'\n",
    "df2['수입통관계획코드'][ df2['수입통관계획코드'].isin(['E','F']) ] = 'EF'\n",
    "df2['수입통관계획코드'][ df2['수입통관계획코드'].isin(['H','Z']) ] = 'HZ'\n",
    "\n",
    "#수입신고구분코드 \n",
    "#df2['수입신고구분코드'][ df2['수입신고구분코드'].isin(['D','E']) ] = 'DE'\n",
    "\n",
    "#수입거래구분코드\n",
    "df2['수입거래구분코드'][ df2['수입거래구분코드'] == 11 ] = 1\n",
    "df2['수입거래구분코드'][ df2['수입거래구분코드'] == 15 ] = 2\n",
    "df2['수입거래구분코드'][ df2['수입거래구분코드'] == 94 ] = 3\n",
    "df2['수입거래구분코드'][ df2['수입거래구분코드'].isin([87,91]) ] = 4\n",
    "df2['수입거래구분코드'][ df2['수입거래구분코드'] > 5 ] = 5\n",
    "\n",
    "#수입종류코드\n",
    "df2['수입종류코드'][ df2['수입종류코드'] == 11 ] = 1\n",
    "df2['수입종류코드'][ df2['수입종류코드'] == 21 ] = 2\n",
    "df2['수입종류코드'][ df2['수입종류코드'] == 26 ] = 3\n",
    "df2['수입종류코드'][ df2['수입종류코드'] > 4 ] = 4\n",
    "\n",
    "#징수형태코드\n",
    "df2['징수형태코드'][ df2['징수형태코드'] == 24 ] = 21\n",
    "df2['징수형태코드'][ df2['징수형태코드'].isin([1,12,33]) ] = 99\n",
    "\n",
    "#신고중량KG\n",
    "#scaler = RobustScaler()\n",
    "#scaler = MinMaxScaler()\n",
    "#df2[\"신고중량(KG)\"][df2[\"신고중량(KG)\"] > 45000] = 45000\n",
    "#df2[\"신고중량(KG)\"][df2[\"신고중량(KG)\"] < 200] = 200\n",
    "#df2[\"신고중량(KG)\"] = scaler.fit_transform(df2[\"신고중량(KG)\"].to_numpy().reshape(-1,1))\n",
    "df2[\"신고중량(KG)\"] = np.log(df2[\"신고중량(KG)\"])\n",
    "df2[\"신고중량(KG)\"][df2[\"신고중량(KG)\"] > 10.9] = 11\n",
    "df2[\"신고중량(KG)\"][df2[\"신고중량(KG)\"] < 4.2] = 4\n",
    "\n",
    "\n",
    "#과세가격원화금액                \n",
    "#df2['과세가격원화금액'][ df2['과세가격원화금액'] < 1 ] = 1\n",
    "df2['과세가격원화금액'] = np.log1p(df2['과세가격원화금액'])\n",
    "\n",
    "#df2['과세가격원화금액'][ df2['과세가격원화금액'] < 8.2 ] = df2['과세가격원화금액'].mean()\n",
    "#print(df2['과세가격원화금액'].mean()) # 12.145\n",
    "df2['과세가격원화금액'][ (df2['과세가격원화금액'] < 8.2) & (df2[\"과세가격원화금액\"] > 0)] = 12.145#df2['과세가격원화금액'].mean()\n",
    "df2['과세가격원화금액'][ df2['과세가격원화금액'] == 0 ] = 8\n",
    "df2['과세가격원화금액'][ df2['과세가격원화금액'] > 19 ] = 19\n",
    "\n",
    "\n",
    "#운송수단유형코드\n",
    "df2['운송수단유형코드'][ df2['운송수단유형코드'] == 10 ] = 1\n",
    "df2['운송수단유형코드'][ df2['운송수단유형코드'] == 40 ] = 2\n",
    "df2['운송수단유형코드'][ df2['운송수단유형코드'].isin([30,50]) ] = 3\n",
    "df2['운송수단유형코드'][ df2['운송수단유형코드'] > 4 ] = 4\n",
    "\n",
    "\n",
    "#관세율\n",
    "#df2[\"관세율\"] = df2[\"관세율\"].astype('float')\n",
    "df2['관세율'][ df2['관세율'] < 1 ] = 0.1\n",
    "df2['관세율'] = np.log1p(df2['관세율'])\n",
    "df2['관세율'][ df2['관세율'] > 5 ] = 5\n",
    "df2 = pd.get_dummies(df2,columns = ['수입통관계획코드','징수형태코드','수입신고구분코드',\n",
    "                                    '운송수단유형코드', '통관지세관부호', #'신고중량(KG)',\n",
    "                                    '수입거래구분코드','수입종류코드'])"
   ]
  },
  {
   "cell_type": "code",
   "execution_count": 32,
   "id": "6815e054",
   "metadata": {},
   "outputs": [],
   "source": [
    "#모델적합, 연습할때 \n",
    "df_y = df2['핵심적발']\n",
    "df_x = df2[['통관지세관부호_1','통관지세관부호_2','통관지세관부호_3','통관지세관부호_4','통관지세관부호_5','통관지세관부호_6',\n",
    "             '통관지세관부호_7', '신고인부호', '수입자부호', '해외거래처부호', '특송업체부호',\n",
    "             '수입거래구분코드_1', '수입거래구분코드_2', '수입거래구분코드_3', '수입거래구분코드_4', '수입거래구분코드_5',\n",
    "             '수입종류코드_1', '수입종류코드_2', '수입종류코드_3', '수입종류코드_4', '운송수단유형코드_1',\n",
    "             '운송수단유형코드_2', '운송수단유형코드_3', '운송수단유형코드_4', '수입통관계획코드_B', '수입통관계획코드_CD',\n",
    "             '수입통관계획코드_EF', '수입통관계획코드_HZ', '징수형태코드_0', '징수형태코드_11', '징수형태코드_13',\n",
    "             '징수형태코드_14', '징수형태코드_18', '징수형태코드_21', '징수형태코드_43', '징수형태코드_99',\n",
    "             '수입신고구분코드_A', '수입신고구분코드_B', '수입신고구분코드_D', '수입신고구분코드_E',\n",
    "             '신고중량(KG)','과세가격원화금액','관세율']]\n",
    "\n",
    "x_train, x_test, y_train, y_test = train_test_split(df_x,df_y,test_size=0.2, random_state=42)\n",
    "oversampling_instance = RandomOverSampler(random_state=42)\n",
    "x_train, y_train = oversampling_instance.fit_resample(x_train, y_train)\n",
    "\n",
    "def printt(pred):\n",
    "    print('예측정확도: {0:.4f}'.format(accuracy_score(y_test,pred)))\n",
    "    print('정밀도: {0:.4f}'.format(precision_score(y_test,pred)))\n",
    "    print('재현율: {0:.4f}'.format(recall_score(y_test,pred)))\n",
    "    print('f1: {0:.4f}'.format(f1_score(y_test,pred)))\n",
    "def printt2(test,pred):\n",
    "    print('예측정확도: {0:.4f}'.format(accuracy_score(test,pred)))\n",
    "    print('정밀도: {0:.4f}'.format(precision_score(test,pred,average='macro')))\n",
    "    print('재현율: {0:.4f}'.format(recall_score(test,pred,average='macro')))\n",
    "    f11 = f1_score(test,pred,average='macro')\n",
    "    print('f1: {0:.4f}'.format(f11))\n",
    "    a = confusion_matrix(test,pred)\n",
    "    tp = a[1][1] + a[1][2] + a[2][1] + a[2][2]\n",
    "    fp = a[0][1] + a[0][2]\n",
    "    fn = a[1][0] + a[2][0]\n",
    "    pre = tp / (fp + tp)\n",
    "    re = tp / (fn + tp)\n",
    "    f1 = 2 * pre * re / (pre + re)\n",
    "    print('정밀도: {0:.4f}'.format(pre))\n",
    "    print('재현율: {0:.4f}'.format(re))\n",
    "    print('f1: {0:.4f}'.format(f1))\n",
    "    print(a)"
   ]
  },
  {
   "cell_type": "code",
   "execution_count": null,
   "id": "309a5236",
   "metadata": {},
   "outputs": [],
   "source": [
    "## RandomOverSampler을 사용한 이유는 우범여부숫자가 너무 적기 때문에 갯수를 맞춰주기 위해 오버샘플링을 했습니다.\n",
    "## 원핫인코딩을 많이 했기때문에 SMOTE을 사용하는 것보단 RandomOverSampler을 사용하는 것이 적절한거 같아서 사용했습니다."
   ]
  },
  {
   "cell_type": "code",
   "execution_count": 33,
   "id": "6f86a431",
   "metadata": {},
   "outputs": [
    {
     "name": "stdout",
     "output_type": "stream",
     "text": [
      "예측정확도: 0.5847\n",
      "정밀도: 0.4319\n",
      "재현율: 0.4796\n",
      "f1: 0.4207\n",
      "정밀도: 0.3827\n",
      "재현율: 0.7910\n",
      "f1: 0.5158\n",
      "[[8855 2006 3078]\n",
      " [ 430  507  963]\n",
      " [ 403  563 1119]]\n"
     ]
    }
   ],
   "source": [
    "df_clt = DecisionTreeClassifier(max_depth=7, random_state=42)\n",
    "df_clt.fit(x_train, y_train)\n",
    "\n",
    "pred = df_clt.predict(x_test)\n",
    "printt2(y_test,pred)"
   ]
  },
  {
   "cell_type": "code",
   "execution_count": 36,
   "id": "d9e806de",
   "metadata": {},
   "outputs": [
    {
     "name": "stdout",
     "output_type": "stream",
     "text": [
      "예측정확도: 0.7676\n",
      "정밀도: 0.4581\n",
      "재현율: 0.3880\n",
      "f1: 0.3918\n",
      "정밀도: 0.5725\n",
      "재현율: 0.2020\n",
      "f1: 0.2986\n",
      "[[13338   215   386]\n",
      " [ 1559   112   229]\n",
      " [ 1621   155   309]]\n"
     ]
    }
   ],
   "source": [
    "rf_clf = RandomForestClassifier(n_estimators = 100)\n",
    "rf_clf.fit(x_train, y_train)\n",
    "pred3 = rf_clf.predict(x_test)\n",
    "printt2(y_test,pred3)"
   ]
  },
  {
   "cell_type": "code",
   "execution_count": 37,
   "id": "d629e779",
   "metadata": {},
   "outputs": [
    {
     "name": "stdout",
     "output_type": "stream",
     "text": [
      "예측정확도: 0.6360\n",
      "정밀도: 0.4531\n",
      "재현율: 0.5046\n",
      "f1: 0.4554\n",
      "정밀도: 0.4271\n",
      "재현율: 0.7819\n",
      "f1: 0.5525\n",
      "[[9760 2095 2084]\n",
      " [ 457  581  862]\n",
      " [ 412  614 1059]]\n"
     ]
    }
   ],
   "source": [
    "ada_clf = AdaBoostClassifier(n_estimators = 100)\n",
    "ada_clf.fit(x_train, y_train)\n",
    "pred4 = ada_clf.predict(x_test)\n",
    "printt2(y_test,pred4)"
   ]
  },
  {
   "cell_type": "code",
   "execution_count": 38,
   "id": "89e6a752",
   "metadata": {},
   "outputs": [
    {
     "name": "stdout",
     "output_type": "stream",
     "text": [
      "예측정확도: 0.6345\n",
      "정밀도: 0.4455\n",
      "재현율: 0.4946\n",
      "f1: 0.4482\n",
      "정밀도: 0.4191\n",
      "재현율: 0.7508\n",
      "f1: 0.5379\n",
      "[[9792 2052 2095]\n",
      " [ 511  502  887]\n",
      " [ 482  525 1078]]\n"
     ]
    },
    {
     "name": "stderr",
     "output_type": "stream",
     "text": [
      "C:\\ProgramData\\Anaconda3\\envs\\ssu\\lib\\site-packages\\sklearn\\linear_model\\_logistic.py:763: ConvergenceWarning: lbfgs failed to converge (status=1):\n",
      "STOP: TOTAL NO. of ITERATIONS REACHED LIMIT.\n",
      "\n",
      "Increase the number of iterations (max_iter) or scale the data as shown in:\n",
      "    https://scikit-learn.org/stable/modules/preprocessing.html\n",
      "Please also refer to the documentation for alternative solver options:\n",
      "    https://scikit-learn.org/stable/modules/linear_model.html#logistic-regression\n",
      "  n_iter_i = _check_optimize_result(\n"
     ]
    }
   ],
   "source": [
    "lf = LogisticRegression(random_state=42)\n",
    "lf.fit(x_train, y_train)\n",
    "pred6 = lf.predict(x_test)\n",
    "printt2(y_test,pred6)"
   ]
  },
  {
   "cell_type": "code",
   "execution_count": 39,
   "id": "3dea0241",
   "metadata": {},
   "outputs": [
    {
     "name": "stdout",
     "output_type": "stream",
     "text": [
      "예측정확도: 0.6391\n",
      "정밀도: 0.4571\n",
      "재현율: 0.5145\n",
      "f1: 0.4601\n",
      "정밀도: 0.4285\n",
      "재현율: 0.7882\n",
      "f1: 0.5551\n",
      "[[9749 1914 2276]\n",
      " [ 439  557  904]\n",
      " [ 405  531 1149]]\n"
     ]
    }
   ],
   "source": [
    "from lightgbm import LGBMClassifier \n",
    "lgbm_wrapper = LGBMClassifier(n_estimators = 250, objective = \"multiclass\", metric = \"multi_logloss\",boosting_type = \"gbdt\",\n",
    "                              #objective = \"multiclass\", metric = \"multi_logloss\"\n",
    "                              #objective = \"binary\", metric = \"binary_logloss\"\n",
    "                              learning_rate = 0.008,  num_leaves = 80, n_jobs = -1, min_child_samples = 28,\n",
    "                              colsample_bytree = 0.3, reg_lambda = 39, #reg_alpha = 30, subsample =  0.3,                           \n",
    "                              max_depth = 12,boost_from_average = False,random_state=42)\n",
    "lgbm_wrapper.fit(x_train, y_train, verbose = True)\n",
    "pred = lgbm_wrapper.predict(x_test)\n",
    "printt2(y_test,pred)"
   ]
  },
  {
   "cell_type": "code",
   "execution_count": 40,
   "id": "b03ea73a",
   "metadata": {},
   "outputs": [
    {
     "name": "stdout",
     "output_type": "stream",
     "text": [
      "예측정확도: 0.6391\n",
      "정밀도: 0.4571\n",
      "재현율: 0.5145\n",
      "f1: 0.4601\n",
      "정밀도: 0.4285\n",
      "재현율: 0.7882\n",
      "f1: 0.5551\n",
      "[[9749 1914 2276]\n",
      " [ 439  557  904]\n",
      " [ 405  531 1149]]\n",
      "예측정확도: 0.6500\n",
      "정밀도: 0.6529\n",
      "재현율: 0.6500\n",
      "f1: 0.6471\n",
      "정밀도: 0.8477\n",
      "재현율: 0.8108\n",
      "f1: 0.8289\n",
      "[[39612  7373  8912]\n",
      " [11693 29589 14615]\n",
      " [ 9454  6653 39790]]\n"
     ]
    }
   ],
   "source": [
    "pred = lgbm_wrapper.predict(x_test)\n",
    "printt2(y_test,pred)\n",
    "pred = lgbm_wrapper.predict(x_train)\n",
    "printt2(y_train,pred)"
   ]
  },
  {
   "cell_type": "code",
   "execution_count": null,
   "id": "fc18edd4",
   "metadata": {},
   "outputs": [],
   "source": [
    "## 다양한 모델을 실험해 보았을때 LightGBM 모델이 실행속도도 빨리 나오기 때문에 하이퍼 파라미터를 튜닝하는데 유리합니다.\n",
    "## 또 F1값이 가장 크기 때문에 LightGBM 모델을 선택했습니다.\n",
    "## LightGBM 모델을 선택한 후 하이퍼파라미터 값은 조원들과 일일이 대입하여 높은 값이 나오는 하이퍼 파라미터 값을 사용했습니다.\n",
    "## 최적의 max_depth - learning_rate을 먼저 찾고 나머지 파라미터 값을 찾았습니다.\n",
    "## 그리고 test데이터 예측정확도와 train데이터 예측정확도를 비교해 과대적합을 방지하기위해 노력했습니다.\n",
    "## 이를 위해 과대적합을 규제하는 하이퍼 파라미터를 조정했습니다.\n",
    "## 다만 이 테스터 데이터에만 지나치게 적합된 하이퍼 파라미터값을 선택한 것 같습니다."
   ]
  }
 ],
 "metadata": {
  "kernelspec": {
   "display_name": "Python [conda env:ssu] *",
   "language": "python",
   "name": "conda-env-ssu-py"
  },
  "language_info": {
   "codemirror_mode": {
    "name": "ipython",
    "version": 3
   },
   "file_extension": ".py",
   "mimetype": "text/x-python",
   "name": "python",
   "nbconvert_exporter": "python",
   "pygments_lexer": "ipython3",
   "version": "3.8.10"
  }
 },
 "nbformat": 4,
 "nbformat_minor": 5
}
